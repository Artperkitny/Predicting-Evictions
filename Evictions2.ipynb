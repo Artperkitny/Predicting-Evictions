{
 "cells": [
  {
   "cell_type": "code",
   "execution_count": 396,
   "metadata": {},
   "outputs": [],
   "source": [
    "import pandas as pd\n",
    "from tqdm import tqdm\n",
    "import time\n",
    "import numpy as np\n",
    "from scipy.stats import linregress\n",
    "from sklearn.model_selection import train_test_split\n",
    "from sklearn.preprocessing import StandardScaler\n",
    "from sklearn.linear_model import LinearRegression, Lasso, ElasticNet, Ridge, PoissonRegressor\n",
    "from sklearn.ensemble import RandomForestRegressor\n",
    "from sklearn.svm import SVR\n",
    "from sklearn.metrics import mean_squared_error\n",
    "import warnings\n",
    "warnings.filterwarnings('ignore')"
   ]
  },
  {
   "cell_type": "code",
   "execution_count": 7,
   "metadata": {},
   "outputs": [
    {
     "data": {
      "text/plain": [
       "Index(['GEOID', 'year', 'name', 'parent-location', 'population',\n",
       "       'poverty-rate', 'renter-occupied-households', 'pct-renter-occupied',\n",
       "       'median-gross-rent', 'median-household-income', 'median-property-value',\n",
       "       'rent-burden', 'pct-white', 'pct-af-am', 'pct-hispanic', 'pct-am-ind',\n",
       "       'pct-asian', 'pct-nh-pi', 'pct-multiple', 'pct-other',\n",
       "       'eviction-filings', 'evictions', 'eviction-rate',\n",
       "       'eviction-filing-rate', 'low-flag', 'imputed', 'subbed'],\n",
       "      dtype='object')"
      ]
     },
     "execution_count": 7,
     "metadata": {},
     "output_type": "execute_result"
    }
   ],
   "source": [
    "evictions_df = pd.read_csv(\"tracts.csv\")\n",
    "evictions_df = evictions_df.loc[evictions_df['year']==2010]\n",
    "# evictions_df['GEOID'] = evictions_df['GEOID'].apply(lambda x: str(x))\n",
    "evictions_df['GEOID'] = evictions_df.GEOID.apply(lambda x: int(x))\n",
    "evictions_df.columns"
   ]
  },
  {
   "cell_type": "code",
   "execution_count": 8,
   "metadata": {},
   "outputs": [],
   "source": [
    "df_headers = pd.read_csv(\"https://raw.githubusercontent.com/ireapps/census/master/tools/metadata/sf1_labels.csv\")"
   ]
  },
  {
   "cell_type": "code",
   "execution_count": 9,
   "metadata": {},
   "outputs": [
    {
     "name": "stderr",
     "output_type": "stream",
     "text": [
      "100%|██████████████████████████████████████████████████████████████████████████████| 331/331 [1:03:22<00:00, 11.49s/it]\n"
     ]
    }
   ],
   "source": [
    "# df_headers = pd.read_csv(\"https://raw.githubusercontent.com/ireapps/census/master/tools/metadata/sf1_labels.csv\")\n",
    "# main_df = pd.DataFrame()\n",
    "\n",
    "# for header in tqdm(df_headers.table_code.unique()):\n",
    "#     temp_df = pd.read_csv(f\"http://censusdata.ire.org/39/all_140_in_39.{header}.csv\")\n",
    "#     temp_df = temp_df[temp_df.columns.drop(list(temp_df.filter(regex='2000')))]\n",
    "#     cols_to_use = temp_df.columns.difference(main_df.columns)\n",
    "#     if main_df.empty:\n",
    "#         main_df = temp_df\n",
    "#         continue\n",
    "        \n",
    "#     main_df = pd.merge(main_df, temp_df[list(cols_to_use)+['GEOID']], on='GEOID')\n",
    "            \n",
    "#     main_df.to_csv(\"census.csv\")"
   ]
  },
  {
   "cell_type": "code",
   "execution_count": 122,
   "metadata": {},
   "outputs": [],
   "source": [
    "main_df = pd.read_csv(\"census.csv\") \n",
    "main_df = main_df.drop(\"Unnamed: 0\", axis=1)"
   ]
  },
  {
   "cell_type": "code",
   "execution_count": 54,
   "metadata": {},
   "outputs": [],
   "source": [
    "rename_dict = {key: f\"\"\"{df_headers.loc[df_headers['col_code']==key].table_desc.item()} {df_headers.loc[df_headers['col_code']==key].table_universe.item()} {df_headers.loc[df_headers['col_code']==key].col_desc.item()}\"\"\" for key in main_df.columns[11:]}\n",
    "main_df = main_df.rename(columns=rename_dict)"
   ]
  },
  {
   "cell_type": "code",
   "execution_count": 123,
   "metadata": {},
   "outputs": [
    {
     "name": "stderr",
     "output_type": "stream",
     "text": [
      " 76%|██████████████████████████████████████████████████████████▋                  | 4426/5801 [00:20<00:06, 212.21it/s]"
     ]
    },
    {
     "name": "stdout",
     "output_type": "stream",
     "text": [
      "'PCT020002'\n",
      "'PCT020002'\n",
      "'PCT020002'\n",
      "'PCT020001'\n"
     ]
    },
    {
     "name": "stderr",
     "output_type": "stream",
     "text": [
      "100%|█████████████████████████████████████████████████████████████████████████████| 5801/5801 [00:27<00:00, 211.18it/s]\n"
     ]
    }
   ],
   "source": [
    "for col in tqdm(main_df.columns[11:]):\n",
    "    parent = df_headers.loc[df_headers['col_code']==col].parent.item()\n",
    "    if not pd.isnull(parent):\n",
    "        parent_code = df_headers.loc[df_headers['col_code']==parent].col_code.item()\n",
    "        try:\n",
    "            main_df[f'{col}{parent_code}'] = main_df[col]/main_df[parent_code]\n",
    "        except Exception as e:\n",
    "            print(e)"
   ]
  },
  {
   "cell_type": "code",
   "execution_count": 467,
   "metadata": {},
   "outputs": [],
   "source": [
    "main_df.to_csv(\"census.csv\")"
   ]
  },
  {
   "cell_type": "code",
   "execution_count": 135,
   "metadata": {},
   "outputs": [],
   "source": [
    "main_df = main_df.merge(evictions_df[['GEOID', 'eviction-rate']], on='GEOID')"
   ]
  },
  {
   "cell_type": "code",
   "execution_count": 230,
   "metadata": {},
   "outputs": [
    {
     "name": "stderr",
     "output_type": "stream",
     "text": [
      "  7%|█████▌                                                                       | 829/11458 [00:03<00:39, 270.71it/s]c:\\users\\art perkitny\\anaconda3\\lib\\site-packages\\scipy\\stats\\_stats_mstats_common.py:130: RuntimeWarning: invalid value encountered in double_scalars\n",
      "  slope = r_num / ssxm\n",
      "c:\\users\\art perkitny\\anaconda3\\lib\\site-packages\\scipy\\stats\\_stats_mstats_common.py:142: RuntimeWarning: divide by zero encountered in double_scalars\n",
      "  sterrest = np.sqrt((1 - r**2) * ssym / ssxm / df)\n",
      " 89%|██████████████████████████████████████████████████████████████████▍        | 10141/11458 [00:39<00:05, 241.63it/s]c:\\users\\art perkitny\\anaconda3\\lib\\site-packages\\numpy\\lib\\function_base.py:2474: RuntimeWarning: invalid value encountered in subtract\n",
      "  X -= avg[:, None]\n",
      " 89%|███████████████████████████████████████████████████████████████████        | 10244/11458 [00:39<00:04, 249.26it/s]c:\\users\\art perkitny\\anaconda3\\lib\\site-packages\\scipy\\stats\\_stats_mstats_common.py:140: RuntimeWarning: invalid value encountered in sqrt\n",
      "  t = r * np.sqrt(df / ((1.0 - r + TINY)*(1.0 + r + TINY)))\n",
      "c:\\users\\art perkitny\\anaconda3\\lib\\site-packages\\scipy\\stats\\_stats_mstats_common.py:142: RuntimeWarning: invalid value encountered in double_scalars\n",
      "  sterrest = np.sqrt((1 - r**2) * ssym / ssxm / df)\n",
      "100%|███████████████████████████████████████████████████████████████████████████| 11458/11458 [00:44<00:00, 257.34it/s]\n"
     ]
    }
   ],
   "source": [
    "corr_df = pd.DataFrame(columns=['col','r_value'])\n",
    "y = main_df[main_df.columns[-1]]\n",
    "for col in tqdm(main_df.columns[9:-1]):\n",
    "    x = main_df[col]\n",
    "    mask = ~np.isnan(x) & ~np.isnan(y)\n",
    "    if len(x[mask]) == 0:\n",
    "        continue\n",
    "    slope, intercept, r_value, p_value, std_err = linregress(x[mask], y[mask])\n",
    "    corr_df = corr_df.append({'col':col, 'r_value':r_value}, ignore_index=True)\n",
    "    \n",
    "corr_df = corr_df.sort_values('r_value', ascending=False)"
   ]
  },
  {
   "cell_type": "code",
   "execution_count": 341,
   "metadata": {},
   "outputs": [
    {
     "data": {
      "text/html": [
       "<div>\n",
       "<style scoped>\n",
       "    .dataframe tbody tr th:only-of-type {\n",
       "        vertical-align: middle;\n",
       "    }\n",
       "\n",
       "    .dataframe tbody tr th {\n",
       "        vertical-align: top;\n",
       "    }\n",
       "\n",
       "    .dataframe thead th {\n",
       "        text-align: right;\n",
       "    }\n",
       "</style>\n",
       "<table border=\"1\" class=\"dataframe\">\n",
       "  <thead>\n",
       "    <tr style=\"text-align: right;\">\n",
       "      <th></th>\n",
       "      <th>col</th>\n",
       "      <th>r_value</th>\n",
       "    </tr>\n",
       "  </thead>\n",
       "  <tbody>\n",
       "    <tr>\n",
       "      <th>9964</th>\n",
       "      <td>PCT016003PCT016002</td>\n",
       "      <td>-0.589446</td>\n",
       "    </tr>\n",
       "    <tr>\n",
       "      <th>10001</th>\n",
       "      <td>PCT017015PCT017014</td>\n",
       "      <td>-0.560314</td>\n",
       "    </tr>\n",
       "    <tr>\n",
       "      <th>11284</th>\n",
       "      <td>H018004H018003</td>\n",
       "      <td>-0.555499</td>\n",
       "    </tr>\n",
       "    <tr>\n",
       "      <th>11318</th>\n",
       "      <td>H018038H018037</td>\n",
       "      <td>-0.540434</td>\n",
       "    </tr>\n",
       "    <tr>\n",
       "      <th>10409</th>\n",
       "      <td>PCT021008PCT021005</td>\n",
       "      <td>-0.525947</td>\n",
       "    </tr>\n",
       "    <tr>\n",
       "      <th>10652</th>\n",
       "      <td>PCT022C009PCT022C008</td>\n",
       "      <td>-0.520625</td>\n",
       "    </tr>\n",
       "    <tr>\n",
       "      <th>9931</th>\n",
       "      <td>PCT015003PCT015002</td>\n",
       "      <td>-0.507814</td>\n",
       "    </tr>\n",
       "    <tr>\n",
       "      <th>10662</th>\n",
       "      <td>PCT022C019PCT022C018</td>\n",
       "      <td>-0.505329</td>\n",
       "    </tr>\n",
       "    <tr>\n",
       "      <th>10702</th>\n",
       "      <td>PCT022E019PCT022E018</td>\n",
       "      <td>-0.504569</td>\n",
       "    </tr>\n",
       "    <tr>\n",
       "      <th>10909</th>\n",
       "      <td>H014011H014010</td>\n",
       "      <td>-0.497801</td>\n",
       "    </tr>\n",
       "  </tbody>\n",
       "</table>\n",
       "</div>"
      ],
      "text/plain": [
       "                        col   r_value\n",
       "9964     PCT016003PCT016002 -0.589446\n",
       "10001    PCT017015PCT017014 -0.560314\n",
       "11284        H018004H018003 -0.555499\n",
       "11318        H018038H018037 -0.540434\n",
       "10409    PCT021008PCT021005 -0.525947\n",
       "10652  PCT022C009PCT022C008 -0.520625\n",
       "9931     PCT015003PCT015002 -0.507814\n",
       "10662  PCT022C019PCT022C018 -0.505329\n",
       "10702  PCT022E019PCT022E018 -0.504569\n",
       "10909        H014011H014010 -0.497801"
      ]
     },
     "execution_count": 341,
     "metadata": {},
     "output_type": "execute_result"
    }
   ],
   "source": [
    "corr_df.sort_values('r_value', ascending=True).head(10)"
   ]
  },
  {
   "cell_type": "code",
   "execution_count": 233,
   "metadata": {},
   "outputs": [
    {
     "data": {
      "text/html": [
       "<div>\n",
       "<style scoped>\n",
       "    .dataframe tbody tr th:only-of-type {\n",
       "        vertical-align: middle;\n",
       "    }\n",
       "\n",
       "    .dataframe tbody tr th {\n",
       "        vertical-align: top;\n",
       "    }\n",
       "\n",
       "    .dataframe thead th {\n",
       "        text-align: right;\n",
       "    }\n",
       "</style>\n",
       "<table border=\"1\" class=\"dataframe\">\n",
       "  <thead>\n",
       "    <tr style=\"text-align: right;\">\n",
       "      <th></th>\n",
       "      <th>table_code</th>\n",
       "      <th>table_desc</th>\n",
       "      <th>table_universe</th>\n",
       "      <th>table_size</th>\n",
       "      <th>col_code</th>\n",
       "      <th>col_desc</th>\n",
       "      <th>indent</th>\n",
       "      <th>parent</th>\n",
       "      <th>has_children</th>\n",
       "      <th>col_code_2000</th>\n",
       "    </tr>\n",
       "  </thead>\n",
       "  <tbody>\n",
       "    <tr>\n",
       "      <th>7813</th>\n",
       "      <td>PCT21</td>\n",
       "      <td>GROUP QUARTERS POPULATION BY SEX BY AGE BY GRO...</td>\n",
       "      <td>Population in group quarters</td>\n",
       "      <td>195</td>\n",
       "      <td>PCT021018</td>\n",
       "      <td>Mental (Psychiatric) hospitals and psychiatric...</td>\n",
       "      <td>5</td>\n",
       "      <td>PCT021017</td>\n",
       "      <td>False</td>\n",
       "      <td>NaN</td>\n",
       "    </tr>\n",
       "  </tbody>\n",
       "</table>\n",
       "</div>"
      ],
      "text/plain": [
       "     table_code                                         table_desc  \\\n",
       "7813      PCT21  GROUP QUARTERS POPULATION BY SEX BY AGE BY GRO...   \n",
       "\n",
       "                    table_universe  table_size   col_code  \\\n",
       "7813  Population in group quarters         195  PCT021018   \n",
       "\n",
       "                                               col_desc  indent     parent  \\\n",
       "7813  Mental (Psychiatric) hospitals and psychiatric...       5  PCT021017   \n",
       "\n",
       "      has_children col_code_2000  \n",
       "7813         False           NaN  "
      ]
     },
     "execution_count": 233,
     "metadata": {},
     "output_type": "execute_result"
    }
   ],
   "source": [
    "df_headers.loc[df_headers['col_code'] == 'PCT021018']"
   ]
  },
  {
   "cell_type": "code",
   "execution_count": 232,
   "metadata": {},
   "outputs": [
    {
     "data": {
      "text/html": [
       "<div>\n",
       "<style scoped>\n",
       "    .dataframe tbody tr th:only-of-type {\n",
       "        vertical-align: middle;\n",
       "    }\n",
       "\n",
       "    .dataframe tbody tr th {\n",
       "        vertical-align: top;\n",
       "    }\n",
       "\n",
       "    .dataframe thead th {\n",
       "        text-align: right;\n",
       "    }\n",
       "</style>\n",
       "<table border=\"1\" class=\"dataframe\">\n",
       "  <thead>\n",
       "    <tr style=\"text-align: right;\">\n",
       "      <th></th>\n",
       "      <th>col</th>\n",
       "      <th>r_value</th>\n",
       "    </tr>\n",
       "  </thead>\n",
       "  <tbody>\n",
       "    <tr>\n",
       "      <th>10419</th>\n",
       "      <td>PCT021018PCT021017</td>\n",
       "      <td>0.997338</td>\n",
       "    </tr>\n",
       "  </tbody>\n",
       "</table>\n",
       "</div>"
      ],
      "text/plain": [
       "                      col   r_value\n",
       "10419  PCT021018PCT021017  0.997338"
      ]
     },
     "execution_count": 232,
     "metadata": {},
     "output_type": "execute_result"
    }
   ],
   "source": [
    "corr_df.loc[corr_df['col']=='PCT021018PCT021017']"
   ]
  },
  {
   "cell_type": "code",
   "execution_count": null,
   "metadata": {},
   "outputs": [],
   "source": [
    "for col in corr_df.sort_values('r_value', ascending=False).head(100).col:\n",
    "    print(df_headers.loc[df_headers['col_code'] == col].table_desc.item(), df_headers.loc[df_headers['col_code'] == col].col_desc.item())"
   ]
  },
  {
   "cell_type": "code",
   "execution_count": 240,
   "metadata": {},
   "outputs": [
    {
     "data": {
      "text/plain": [
       "['PCT021018PCT021017',\n",
       " 'PCT021115PCT021114',\n",
       " 'PCT022E021PCT022E018',\n",
       " 'PCT016015PCT016002',\n",
       " 'PCT017017PCT017014',\n",
       " 'H018008H018003',\n",
       " 'PCT022E011PCT022E008',\n",
       " 'H018042H018037',\n",
       " 'PCT022C011PCT022C008',\n",
       " 'PCT019B005']"
      ]
     },
     "execution_count": 240,
     "metadata": {},
     "output_type": "execute_result"
    }
   ],
   "source": [
    "list(corr_df.sort_values('r_value', ascending=False).head(10).col)"
   ]
  },
  {
   "cell_type": "code",
   "execution_count": 386,
   "metadata": {},
   "outputs": [
    {
     "name": "stdout",
     "output_type": "stream",
     "text": [
      "(2909, 106) (2909, 1)\n"
     ]
    }
   ],
   "source": [
    "x_cols = [key for key, val in (main_df[list(corr_df.head(64).col)].isna().sum()<round(len(main_df)*0.1)).iteritems() if val]+['eviction-rate']\n",
    "x_cols += [key for key, val in (main_df[list(corr_df.sort_values('r_value', ascending=True).head(64).col)].isna().sum()<round(len(main_df)*0.1)).iteritems() if val]\n",
    "\n",
    "X = main_df[x_cols].dropna().drop('eviction-rate', axis=1)\n",
    "y = main_df[x_cols].dropna()[['eviction-rate']]\n",
    "\n",
    "print(X.shape, y.shape)\n",
    "\n",
    "X_train, X_test, y_train, y_test = train_test_split(X, y, random_state=42)\n",
    "\n",
    "X_scaler = StandardScaler().fit(X_train)\n",
    "y_scaler = StandardScaler().fit(y_train)\n",
    "\n",
    "X_train_scaled = X_scaler.transform(X_train)\n",
    "X_test_scaled = X_scaler.transform(X_test)\n",
    "y_train_scaled = y_scaler.transform(y_train)\n",
    "y_test_scaled = y_scaler.transform(y_test)"
   ]
  },
  {
   "cell_type": "code",
   "execution_count": 387,
   "metadata": {},
   "outputs": [
    {
     "name": "stdout",
     "output_type": "stream",
     "text": [
      "MSE: 0.570623829149165, R2: 0.4677644204000636\n"
     ]
    }
   ],
   "source": [
    "model = LinearRegression()\n",
    "model.fit(X_train_scaled, y_train_scaled)\n",
    "\n",
    "predictions = model.predict(X_test_scaled)\n",
    "MSE = mean_squared_error(y_test_scaled, predictions)\n",
    "r2 = model.score(X_test_scaled, y_test_scaled)\n",
    "\n",
    "print(f\"MSE: {MSE}, R2: {r2}\")"
   ]
  },
  {
   "cell_type": "code",
   "execution_count": 388,
   "metadata": {},
   "outputs": [
    {
     "name": "stdout",
     "output_type": "stream",
     "text": [
      "MSE: 0.5331847264371976, R2: 0.5026848382194824\n"
     ]
    }
   ],
   "source": [
    "model = SVR(kernel='rbf', C=3)\n",
    "model.fit(X_train_scaled, y_train_scaled)\n",
    "\n",
    "predictions = model.predict(X_test_scaled)\n",
    "MSE = mean_squared_error(y_test_scaled, predictions)\n",
    "r2 = model.score(X_test_scaled, y_test_scaled)\n",
    "\n",
    "print(f\"MSE: {MSE}, R2: {r2}\")"
   ]
  },
  {
   "cell_type": "code",
   "execution_count": 436,
   "metadata": {},
   "outputs": [
    {
     "name": "stderr",
     "output_type": "stream",
     "text": [
      "100%|███████████████████████████████████████████████████████████████████████████████| 728/728 [00:01<00:00, 691.77it/s]\n"
     ]
    }
   ],
   "source": [
    "predict_df = pd.DataFrame(columns=['predicted', 'actual', 'difference'])\n",
    "for n in tqdm(range(len(X_test_scaled))):\n",
    "    predicted = round(y_scaler.inverse_transform(model.predict([X_test_scaled[n]]))[0], 1)\n",
    "    actual = round(y_scaler.inverse_transform(y_test_scaled[n])[0], 1)\n",
    "    diff = round(predicted-actual,2)\n",
    "#     print(predicted, actual, round(predicted-actual,2))\n",
    "    predict_df = predict_df.append({'predicted':predicted, 'actual':actual, 'difference':diff}, ignore_index=True)\n",
    "\n",
    "predict_df['percent'] = round(predict_df.difference/predict_df.actual*100)"
   ]
  },
  {
   "cell_type": "code",
   "execution_count": 461,
   "metadata": {},
   "outputs": [
    {
     "data": {
      "text/plain": [
       "LinregressResult(slope=0.5149127601630112, intercept=1.3702326287710707, rvalue=0.7150137686177312, pvalue=5.71018227527002e-115, stderr=0.018685154094810613)"
      ]
     },
     "execution_count": 461,
     "metadata": {},
     "output_type": "execute_result"
    }
   ],
   "source": [
    "linregress(predict_df['actual'], predict_df['predicted'])"
   ]
  },
  {
   "cell_type": "code",
   "execution_count": 460,
   "metadata": {},
   "outputs": [
    {
     "data": {
      "text/plain": [
       "<AxesSubplot:xlabel='actual', ylabel='predicted'>"
      ]
     },
     "execution_count": 460,
     "metadata": {},
     "output_type": "execute_result"
    },
    {
     "data": {
      "image/png": "[encoded data removed]",
      "text/plain": [
       "<Figure size 432x288 with 1 Axes>"
      ]
     },
     "metadata": {
      "needs_background": "light"
     },
     "output_type": "display_data"
    }
   ],
   "source": [
    "predict_df.plot(x='actual', y='predicted', kind='scatter')"
   ]
  },
  {
   "cell_type": "code",
   "execution_count": 455,
   "metadata": {},
   "outputs": [
    {
     "data": {
      "text/plain": [
       "<AxesSubplot:>"
      ]
     },
     "execution_count": 455,
     "metadata": {},
     "output_type": "execute_result"
    },
    {
     "data": {
      "image/png": "[encoded data removed]",
      "text/plain": [
       "<Figure size 432x288 with 1 Axes>"
      ]
     },
     "metadata": {
      "needs_background": "light"
     },
     "output_type": "display_data"
    }
   ],
   "source": [
    "# predict_df.sort_values('percent')\n",
    "predict_df.loc[np.isfinite(predict_df['percent'])].percent.hist(bins=25)"
   ]
  },
  {
   "cell_type": "code",
   "execution_count": 425,
   "metadata": {},
   "outputs": [
    {
     "data": {
      "text/plain": [
       "<AxesSubplot:>"
      ]
     },
     "execution_count": 425,
     "metadata": {},
     "output_type": "execute_result"
    },
    {
     "data": {
      "image/png": "[encoded data removed]",
      "text/plain": [
       "<Figure size 432x288 with 1 Axes>"
      ]
     },
     "metadata": {
      "needs_background": "light"
     },
     "output_type": "display_data"
    }
   ],
   "source": [
    "predict_df.predicted.hist(bins=25)"
   ]
  },
  {
   "cell_type": "code",
   "execution_count": 426,
   "metadata": {},
   "outputs": [
    {
     "data": {
      "text/plain": [
       "<AxesSubplot:>"
      ]
     },
     "execution_count": 426,
     "metadata": {},
     "output_type": "execute_result"
    },
    {
     "data": {
      "image/png": "[encoded data removed]",
      "text/plain": [
       "<Figure size 432x288 with 1 Axes>"
      ]
     },
     "metadata": {
      "needs_background": "light"
     },
     "output_type": "display_data"
    }
   ],
   "source": [
    "predict_df.actual.hist(bins=25)"
   ]
  },
  {
   "cell_type": "code",
   "execution_count": 465,
   "metadata": {},
   "outputs": [
    {
     "data": {
      "text/html": [
       "<div>\n",
       "<style scoped>\n",
       "    .dataframe tbody tr th:only-of-type {\n",
       "        vertical-align: middle;\n",
       "    }\n",
       "\n",
       "    .dataframe tbody tr th {\n",
       "        vertical-align: top;\n",
       "    }\n",
       "\n",
       "    .dataframe thead th {\n",
       "        text-align: right;\n",
       "    }\n",
       "</style>\n",
       "<table border=\"1\" class=\"dataframe\">\n",
       "  <thead>\n",
       "    <tr style=\"text-align: right;\">\n",
       "      <th></th>\n",
       "      <th>predicted</th>\n",
       "      <th>actual</th>\n",
       "      <th>difference</th>\n",
       "      <th>percent</th>\n",
       "    </tr>\n",
       "  </thead>\n",
       "  <tbody>\n",
       "    <tr>\n",
       "      <th>682</th>\n",
       "      <td>9.3</td>\n",
       "      <td>15.8</td>\n",
       "      <td>-6.5</td>\n",
       "      <td>-41.0</td>\n",
       "    </tr>\n",
       "    <tr>\n",
       "      <th>11</th>\n",
       "      <td>7.5</td>\n",
       "      <td>15.4</td>\n",
       "      <td>-7.9</td>\n",
       "      <td>-51.0</td>\n",
       "    </tr>\n",
       "    <tr>\n",
       "      <th>137</th>\n",
       "      <td>6.4</td>\n",
       "      <td>14.8</td>\n",
       "      <td>-8.4</td>\n",
       "      <td>-57.0</td>\n",
       "    </tr>\n",
       "    <tr>\n",
       "      <th>500</th>\n",
       "      <td>9.9</td>\n",
       "      <td>14.3</td>\n",
       "      <td>-4.4</td>\n",
       "      <td>-31.0</td>\n",
       "    </tr>\n",
       "    <tr>\n",
       "      <th>638</th>\n",
       "      <td>7.5</td>\n",
       "      <td>14.1</td>\n",
       "      <td>-6.6</td>\n",
       "      <td>-47.0</td>\n",
       "    </tr>\n",
       "    <tr>\n",
       "      <th>718</th>\n",
       "      <td>9.1</td>\n",
       "      <td>13.3</td>\n",
       "      <td>-4.2</td>\n",
       "      <td>-32.0</td>\n",
       "    </tr>\n",
       "    <tr>\n",
       "      <th>330</th>\n",
       "      <td>3.1</td>\n",
       "      <td>13.3</td>\n",
       "      <td>-10.2</td>\n",
       "      <td>-77.0</td>\n",
       "    </tr>\n",
       "    <tr>\n",
       "      <th>445</th>\n",
       "      <td>8.4</td>\n",
       "      <td>13.2</td>\n",
       "      <td>-4.8</td>\n",
       "      <td>-36.0</td>\n",
       "    </tr>\n",
       "    <tr>\n",
       "      <th>9</th>\n",
       "      <td>7.3</td>\n",
       "      <td>12.6</td>\n",
       "      <td>-5.3</td>\n",
       "      <td>-42.0</td>\n",
       "    </tr>\n",
       "    <tr>\n",
       "      <th>191</th>\n",
       "      <td>1.5</td>\n",
       "      <td>12.5</td>\n",
       "      <td>-11.0</td>\n",
       "      <td>-88.0</td>\n",
       "    </tr>\n",
       "    <tr>\n",
       "      <th>333</th>\n",
       "      <td>5.9</td>\n",
       "      <td>12.3</td>\n",
       "      <td>-6.4</td>\n",
       "      <td>-52.0</td>\n",
       "    </tr>\n",
       "    <tr>\n",
       "      <th>633</th>\n",
       "      <td>7.4</td>\n",
       "      <td>12.2</td>\n",
       "      <td>-4.8</td>\n",
       "      <td>-39.0</td>\n",
       "    </tr>\n",
       "    <tr>\n",
       "      <th>103</th>\n",
       "      <td>7.5</td>\n",
       "      <td>12.1</td>\n",
       "      <td>-4.6</td>\n",
       "      <td>-38.0</td>\n",
       "    </tr>\n",
       "    <tr>\n",
       "      <th>60</th>\n",
       "      <td>4.8</td>\n",
       "      <td>12.0</td>\n",
       "      <td>-7.2</td>\n",
       "      <td>-60.0</td>\n",
       "    </tr>\n",
       "    <tr>\n",
       "      <th>253</th>\n",
       "      <td>6.9</td>\n",
       "      <td>11.9</td>\n",
       "      <td>-5.0</td>\n",
       "      <td>-42.0</td>\n",
       "    </tr>\n",
       "    <tr>\n",
       "      <th>644</th>\n",
       "      <td>5.1</td>\n",
       "      <td>11.7</td>\n",
       "      <td>-6.6</td>\n",
       "      <td>-56.0</td>\n",
       "    </tr>\n",
       "    <tr>\n",
       "      <th>181</th>\n",
       "      <td>7.5</td>\n",
       "      <td>11.7</td>\n",
       "      <td>-4.2</td>\n",
       "      <td>-36.0</td>\n",
       "    </tr>\n",
       "    <tr>\n",
       "      <th>505</th>\n",
       "      <td>9.5</td>\n",
       "      <td>11.6</td>\n",
       "      <td>-2.1</td>\n",
       "      <td>-18.0</td>\n",
       "    </tr>\n",
       "    <tr>\n",
       "      <th>335</th>\n",
       "      <td>11.0</td>\n",
       "      <td>11.5</td>\n",
       "      <td>-0.5</td>\n",
       "      <td>-4.0</td>\n",
       "    </tr>\n",
       "    <tr>\n",
       "      <th>587</th>\n",
       "      <td>9.3</td>\n",
       "      <td>11.5</td>\n",
       "      <td>-2.2</td>\n",
       "      <td>-19.0</td>\n",
       "    </tr>\n",
       "    <tr>\n",
       "      <th>572</th>\n",
       "      <td>8.7</td>\n",
       "      <td>11.1</td>\n",
       "      <td>-2.4</td>\n",
       "      <td>-22.0</td>\n",
       "    </tr>\n",
       "    <tr>\n",
       "      <th>348</th>\n",
       "      <td>5.2</td>\n",
       "      <td>11.0</td>\n",
       "      <td>-5.8</td>\n",
       "      <td>-53.0</td>\n",
       "    </tr>\n",
       "    <tr>\n",
       "      <th>73</th>\n",
       "      <td>3.2</td>\n",
       "      <td>11.0</td>\n",
       "      <td>-7.8</td>\n",
       "      <td>-71.0</td>\n",
       "    </tr>\n",
       "    <tr>\n",
       "      <th>140</th>\n",
       "      <td>10.1</td>\n",
       "      <td>10.9</td>\n",
       "      <td>-0.8</td>\n",
       "      <td>-7.0</td>\n",
       "    </tr>\n",
       "    <tr>\n",
       "      <th>659</th>\n",
       "      <td>4.5</td>\n",
       "      <td>10.9</td>\n",
       "      <td>-6.4</td>\n",
       "      <td>-59.0</td>\n",
       "    </tr>\n",
       "    <tr>\n",
       "      <th>446</th>\n",
       "      <td>6.6</td>\n",
       "      <td>10.7</td>\n",
       "      <td>-4.1</td>\n",
       "      <td>-38.0</td>\n",
       "    </tr>\n",
       "    <tr>\n",
       "      <th>593</th>\n",
       "      <td>5.0</td>\n",
       "      <td>10.4</td>\n",
       "      <td>-5.4</td>\n",
       "      <td>-52.0</td>\n",
       "    </tr>\n",
       "    <tr>\n",
       "      <th>409</th>\n",
       "      <td>5.8</td>\n",
       "      <td>10.3</td>\n",
       "      <td>-4.5</td>\n",
       "      <td>-44.0</td>\n",
       "    </tr>\n",
       "    <tr>\n",
       "      <th>408</th>\n",
       "      <td>8.7</td>\n",
       "      <td>10.2</td>\n",
       "      <td>-1.5</td>\n",
       "      <td>-15.0</td>\n",
       "    </tr>\n",
       "    <tr>\n",
       "      <th>671</th>\n",
       "      <td>8.9</td>\n",
       "      <td>10.1</td>\n",
       "      <td>-1.2</td>\n",
       "      <td>-12.0</td>\n",
       "    </tr>\n",
       "    <tr>\n",
       "      <th>...</th>\n",
       "      <td>...</td>\n",
       "      <td>...</td>\n",
       "      <td>...</td>\n",
       "      <td>...</td>\n",
       "    </tr>\n",
       "    <tr>\n",
       "      <th>368</th>\n",
       "      <td>1.9</td>\n",
       "      <td>0.0</td>\n",
       "      <td>1.9</td>\n",
       "      <td>inf</td>\n",
       "    </tr>\n",
       "    <tr>\n",
       "      <th>228</th>\n",
       "      <td>1.2</td>\n",
       "      <td>0.0</td>\n",
       "      <td>1.2</td>\n",
       "      <td>inf</td>\n",
       "    </tr>\n",
       "    <tr>\n",
       "      <th>458</th>\n",
       "      <td>0.9</td>\n",
       "      <td>0.0</td>\n",
       "      <td>0.9</td>\n",
       "      <td>inf</td>\n",
       "    </tr>\n",
       "    <tr>\n",
       "      <th>396</th>\n",
       "      <td>1.2</td>\n",
       "      <td>0.0</td>\n",
       "      <td>1.2</td>\n",
       "      <td>inf</td>\n",
       "    </tr>\n",
       "    <tr>\n",
       "      <th>453</th>\n",
       "      <td>1.7</td>\n",
       "      <td>0.0</td>\n",
       "      <td>1.7</td>\n",
       "      <td>inf</td>\n",
       "    </tr>\n",
       "    <tr>\n",
       "      <th>285</th>\n",
       "      <td>1.7</td>\n",
       "      <td>0.0</td>\n",
       "      <td>1.7</td>\n",
       "      <td>inf</td>\n",
       "    </tr>\n",
       "    <tr>\n",
       "      <th>215</th>\n",
       "      <td>0.8</td>\n",
       "      <td>0.0</td>\n",
       "      <td>0.8</td>\n",
       "      <td>inf</td>\n",
       "    </tr>\n",
       "    <tr>\n",
       "      <th>645</th>\n",
       "      <td>1.1</td>\n",
       "      <td>0.0</td>\n",
       "      <td>1.1</td>\n",
       "      <td>inf</td>\n",
       "    </tr>\n",
       "    <tr>\n",
       "      <th>188</th>\n",
       "      <td>0.9</td>\n",
       "      <td>0.0</td>\n",
       "      <td>0.9</td>\n",
       "      <td>inf</td>\n",
       "    </tr>\n",
       "    <tr>\n",
       "      <th>284</th>\n",
       "      <td>0.9</td>\n",
       "      <td>0.0</td>\n",
       "      <td>0.9</td>\n",
       "      <td>inf</td>\n",
       "    </tr>\n",
       "    <tr>\n",
       "      <th>7</th>\n",
       "      <td>0.7</td>\n",
       "      <td>0.0</td>\n",
       "      <td>0.7</td>\n",
       "      <td>inf</td>\n",
       "    </tr>\n",
       "    <tr>\n",
       "      <th>272</th>\n",
       "      <td>1.9</td>\n",
       "      <td>0.0</td>\n",
       "      <td>1.9</td>\n",
       "      <td>inf</td>\n",
       "    </tr>\n",
       "    <tr>\n",
       "      <th>115</th>\n",
       "      <td>1.9</td>\n",
       "      <td>0.0</td>\n",
       "      <td>1.9</td>\n",
       "      <td>inf</td>\n",
       "    </tr>\n",
       "    <tr>\n",
       "      <th>619</th>\n",
       "      <td>1.1</td>\n",
       "      <td>0.0</td>\n",
       "      <td>1.1</td>\n",
       "      <td>inf</td>\n",
       "    </tr>\n",
       "    <tr>\n",
       "      <th>294</th>\n",
       "      <td>1.5</td>\n",
       "      <td>0.0</td>\n",
       "      <td>1.5</td>\n",
       "      <td>inf</td>\n",
       "    </tr>\n",
       "    <tr>\n",
       "      <th>68</th>\n",
       "      <td>1.9</td>\n",
       "      <td>0.0</td>\n",
       "      <td>1.9</td>\n",
       "      <td>inf</td>\n",
       "    </tr>\n",
       "    <tr>\n",
       "      <th>258</th>\n",
       "      <td>1.0</td>\n",
       "      <td>0.0</td>\n",
       "      <td>1.0</td>\n",
       "      <td>inf</td>\n",
       "    </tr>\n",
       "    <tr>\n",
       "      <th>62</th>\n",
       "      <td>0.8</td>\n",
       "      <td>0.0</td>\n",
       "      <td>0.8</td>\n",
       "      <td>inf</td>\n",
       "    </tr>\n",
       "    <tr>\n",
       "      <th>690</th>\n",
       "      <td>-0.1</td>\n",
       "      <td>0.0</td>\n",
       "      <td>-0.1</td>\n",
       "      <td>-inf</td>\n",
       "    </tr>\n",
       "    <tr>\n",
       "      <th>626</th>\n",
       "      <td>1.7</td>\n",
       "      <td>0.0</td>\n",
       "      <td>1.7</td>\n",
       "      <td>inf</td>\n",
       "    </tr>\n",
       "    <tr>\n",
       "      <th>53</th>\n",
       "      <td>1.2</td>\n",
       "      <td>0.0</td>\n",
       "      <td>1.2</td>\n",
       "      <td>inf</td>\n",
       "    </tr>\n",
       "    <tr>\n",
       "      <th>630</th>\n",
       "      <td>1.5</td>\n",
       "      <td>0.0</td>\n",
       "      <td>1.5</td>\n",
       "      <td>inf</td>\n",
       "    </tr>\n",
       "    <tr>\n",
       "      <th>39</th>\n",
       "      <td>0.9</td>\n",
       "      <td>0.0</td>\n",
       "      <td>0.9</td>\n",
       "      <td>inf</td>\n",
       "    </tr>\n",
       "    <tr>\n",
       "      <th>50</th>\n",
       "      <td>1.5</td>\n",
       "      <td>0.0</td>\n",
       "      <td>1.5</td>\n",
       "      <td>inf</td>\n",
       "    </tr>\n",
       "    <tr>\n",
       "      <th>351</th>\n",
       "      <td>1.0</td>\n",
       "      <td>0.0</td>\n",
       "      <td>1.0</td>\n",
       "      <td>inf</td>\n",
       "    </tr>\n",
       "    <tr>\n",
       "      <th>295</th>\n",
       "      <td>0.9</td>\n",
       "      <td>0.0</td>\n",
       "      <td>0.9</td>\n",
       "      <td>inf</td>\n",
       "    </tr>\n",
       "    <tr>\n",
       "      <th>42</th>\n",
       "      <td>1.8</td>\n",
       "      <td>0.0</td>\n",
       "      <td>1.8</td>\n",
       "      <td>inf</td>\n",
       "    </tr>\n",
       "    <tr>\n",
       "      <th>262</th>\n",
       "      <td>1.2</td>\n",
       "      <td>0.0</td>\n",
       "      <td>1.2</td>\n",
       "      <td>inf</td>\n",
       "    </tr>\n",
       "    <tr>\n",
       "      <th>286</th>\n",
       "      <td>1.0</td>\n",
       "      <td>0.0</td>\n",
       "      <td>1.0</td>\n",
       "      <td>inf</td>\n",
       "    </tr>\n",
       "    <tr>\n",
       "      <th>200</th>\n",
       "      <td>2.0</td>\n",
       "      <td>0.0</td>\n",
       "      <td>2.0</td>\n",
       "      <td>inf</td>\n",
       "    </tr>\n",
       "  </tbody>\n",
       "</table>\n",
       "<p>728 rows × 4 columns</p>\n",
       "</div>"
      ],
      "text/plain": [
       "     predicted  actual  difference  percent\n",
       "682        9.3    15.8        -6.5    -41.0\n",
       "11         7.5    15.4        -7.9    -51.0\n",
       "137        6.4    14.8        -8.4    -57.0\n",
       "500        9.9    14.3        -4.4    -31.0\n",
       "638        7.5    14.1        -6.6    -47.0\n",
       "718        9.1    13.3        -4.2    -32.0\n",
       "330        3.1    13.3       -10.2    -77.0\n",
       "445        8.4    13.2        -4.8    -36.0\n",
       "9          7.3    12.6        -5.3    -42.0\n",
       "191        1.5    12.5       -11.0    -88.0\n",
       "333        5.9    12.3        -6.4    -52.0\n",
       "633        7.4    12.2        -4.8    -39.0\n",
       "103        7.5    12.1        -4.6    -38.0\n",
       "60         4.8    12.0        -7.2    -60.0\n",
       "253        6.9    11.9        -5.0    -42.0\n",
       "644        5.1    11.7        -6.6    -56.0\n",
       "181        7.5    11.7        -4.2    -36.0\n",
       "505        9.5    11.6        -2.1    -18.0\n",
       "335       11.0    11.5        -0.5     -4.0\n",
       "587        9.3    11.5        -2.2    -19.0\n",
       "572        8.7    11.1        -2.4    -22.0\n",
       "348        5.2    11.0        -5.8    -53.0\n",
       "73         3.2    11.0        -7.8    -71.0\n",
       "140       10.1    10.9        -0.8     -7.0\n",
       "659        4.5    10.9        -6.4    -59.0\n",
       "446        6.6    10.7        -4.1    -38.0\n",
       "593        5.0    10.4        -5.4    -52.0\n",
       "409        5.8    10.3        -4.5    -44.0\n",
       "408        8.7    10.2        -1.5    -15.0\n",
       "671        8.9    10.1        -1.2    -12.0\n",
       "..         ...     ...         ...      ...\n",
       "368        1.9     0.0         1.9      inf\n",
       "228        1.2     0.0         1.2      inf\n",
       "458        0.9     0.0         0.9      inf\n",
       "396        1.2     0.0         1.2      inf\n",
       "453        1.7     0.0         1.7      inf\n",
       "285        1.7     0.0         1.7      inf\n",
       "215        0.8     0.0         0.8      inf\n",
       "645        1.1     0.0         1.1      inf\n",
       "188        0.9     0.0         0.9      inf\n",
       "284        0.9     0.0         0.9      inf\n",
       "7          0.7     0.0         0.7      inf\n",
       "272        1.9     0.0         1.9      inf\n",
       "115        1.9     0.0         1.9      inf\n",
       "619        1.1     0.0         1.1      inf\n",
       "294        1.5     0.0         1.5      inf\n",
       "68         1.9     0.0         1.9      inf\n",
       "258        1.0     0.0         1.0      inf\n",
       "62         0.8     0.0         0.8      inf\n",
       "690       -0.1     0.0        -0.1     -inf\n",
       "626        1.7     0.0         1.7      inf\n",
       "53         1.2     0.0         1.2      inf\n",
       "630        1.5     0.0         1.5      inf\n",
       "39         0.9     0.0         0.9      inf\n",
       "50         1.5     0.0         1.5      inf\n",
       "351        1.0     0.0         1.0      inf\n",
       "295        0.9     0.0         0.9      inf\n",
       "42         1.8     0.0         1.8      inf\n",
       "262        1.2     0.0         1.2      inf\n",
       "286        1.0     0.0         1.0      inf\n",
       "200        2.0     0.0         2.0      inf\n",
       "\n",
       "[728 rows x 4 columns]"
      ]
     },
     "execution_count": 465,
     "metadata": {},
     "output_type": "execute_result"
    }
   ],
   "source": [
    "predict_df.sort_values('actual', ascending=False)"
   ]
  },
  {
   "cell_type": "code",
   "execution_count": 385,
   "metadata": {},
   "outputs": [
    {
     "name": "stderr",
     "output_type": "stream",
     "text": [
      " 80%|█████████████████████████████████████████████████████████████████▌                | 40/50 [00:25<00:07,  1.25it/s]"
     ]
    },
    {
     "name": "stdout",
     "output_type": "stream",
     "text": [
      "i: 64, MSE: 0.5331847264371976, R2: 0.5026848382194824\n"
     ]
    },
    {
     "name": "stderr",
     "output_type": "stream",
     "text": [
      "100%|██████████████████████████████████████████████████████████████████████████████████| 50/50 [00:33<00:00,  1.49it/s]\n"
     ]
    }
   ],
   "source": [
    "R2 = 0.5026848382194824\n",
    "for i in tqdm(range(25,75)):\n",
    "    x_cols = [key for key, val in (main_df[list(corr_df.head(i).col)].isna().sum()<round(len(main_df)*0.25)).iteritems() if val]+['eviction-rate']\n",
    "    x_cols += [key for key, val in (main_df[list(corr_df.sort_values('r_value', ascending=True).head(i).col)].isna().sum()<round(len(main_df)*0.1)).iteritems() if val]\n",
    "    if len(x_cols)<=1:\n",
    "        continue\n",
    "        \n",
    "    X = main_df[x_cols].dropna().drop('eviction-rate', axis=1)\n",
    "    y = main_df[x_cols].dropna()[['eviction-rate']]\n",
    "\n",
    "    X_train, X_test, y_train, y_test = train_test_split(X, y, random_state=42)\n",
    "\n",
    "    X_scaler = StandardScaler().fit(X_train)\n",
    "    y_scaler = StandardScaler().fit(y_train)\n",
    "\n",
    "    X_train_scaled = X_scaler.transform(X_train)\n",
    "    X_test_scaled = X_scaler.transform(X_test)\n",
    "    y_train_scaled = y_scaler.transform(y_train)\n",
    "    y_test_scaled = y_scaler.transform(y_test)\n",
    "    \n",
    "#     model = LinearRegression()\n",
    "#     model.fit(X_train_scaled, y_train_scaled)\n",
    "\n",
    "#     predictions = model.predict(X_test_scaled)\n",
    "#     MSE = mean_squared_error(y_test_scaled, predictions)\n",
    "#     r2 = model.score(X_test_scaled, y_test_scaled)\n",
    "\n",
    "#     model = Ridge(alpha=1.0)\n",
    "#     model.fit(X_train_scaled, y_train_scaled)\n",
    "\n",
    "#     predictions = model.predict(X_test_scaled)\n",
    "#     MSE = mean_squared_error(y_test_scaled, predictions)\n",
    "#     r2 = model.score(X_test_scaled, y_test_scaled)\n",
    "    model = SVR(kernel='rbf', C=3)\n",
    "    model.fit(X_train_scaled, y_train_scaled)\n",
    "\n",
    "    predictions = model.predict(X_test_scaled)\n",
    "    MSE = mean_squared_error(y_test_scaled, predictions)\n",
    "    r2 = model.score(X_test_scaled, y_test_scaled)\n",
    "\n",
    "#     model = RandomForestRegressor(n_estimators=10, random_state=42)\n",
    "#     model.fit(X_train_scaled, y_train_scaled)\n",
    "\n",
    "#     predictions = model.predict(X_test_scaled)\n",
    "#     MSE = mean_squared_error(y_test_scaled, predictions)\n",
    "#     r2 = model.score(X_test_scaled, y_test_scaled)\n",
    "\n",
    "    if r2>=R2:\n",
    "        print(f\"i: {i}, MSE: {MSE}, R2: {r2}\")\n",
    "        R2 = r2"
   ]
  },
  {
   "cell_type": "markdown",
   "metadata": {},
   "source": [
    "- Try on another state, Indiana for example. What about a state with much different demographics such as New Mexico?\n",
    "- Try on data from another year, how does the model handle when faced with newer data? "
   ]
  },
  {
   "cell_type": "code",
   "execution_count": null,
   "metadata": {},
   "outputs": [],
   "source": []
  }
 ],
 "metadata": {
  "kernelspec": {
   "display_name": "Python 3",
   "language": "python",
   "name": "python3"
  },
  "language_info": {
   "codemirror_mode": {
    "name": "ipython",
    "version": 3
   },
   "file_extension": ".py",
   "mimetype": "text/x-python",
   "name": "python",
   "nbconvert_exporter": "python",
   "pygments_lexer": "ipython3",
   "version": "3.6.7"
  }
 },
 "nbformat": 4,
 "nbformat_minor": 4
}
